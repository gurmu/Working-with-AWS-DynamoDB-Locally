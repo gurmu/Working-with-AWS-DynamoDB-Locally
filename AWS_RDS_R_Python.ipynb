<!DOCTYPE html>
<html>
<head>
  <title>Ashenafi Gurmu</title>
  <link rel="stylesheet" type="text/css" href="ahava.css">
  <script src="https://kit.fontawesome.com/a076d05399.js"></script>
</head>
<body>
<header>
  <h1>Ashenafi Gurmu,
      <span class="phd"> PhD</span>
  </h1>
</header>
<nav>
  <ul>
      <li class="active"><a href="#">Home</a></li>
      <li><a href="#">About</a></li>
      <li><a href="#">NLP/NLU</a></li>
      <li><a href="#">Computer Vision</a></li>
      <li><a href="#">Big Data</a></li>
      <li><a href="#">Geospatial</a></li>
      <li><a href="#">Data Visualization</a></li>
      <li><a href="#">Artificial Intelligency</a></li>
      <li><a href="#">Miscilanious</a></li>
    </ul>
</nav>
<main>
    </style>
<style type="text/css">
    .highlight .hll { background-color: #ffffcc }
.highlight  { background: #f8f8f8; }
.highlight .c { color: #408080; font-style: italic } /* Comment */
.highlight .err { border: 1px solid #FF0000 } /* Error */
.highlight .k { color: #008000; font-weight: bold } /* Keyword */
.highlight .o { color: #666666 } /* Operator */
.highlight .ch { color: #408080; font-style: italic } /* Comment.Hashbang */
.highlight .cm { color: #408080; font-style: italic } /* Comment.Multiline */
.highlight .cp { color: #BC7A00 } /* Comment.Preproc */
.highlight .cpf { color: #408080; font-style: italic } /* Comment.PreprocFile */
.highlight .c1 { color: #408080; font-style: italic } /* Comment.Single */
.highlight .cs { color: #408080; font-style: italic } /* Comment.Special */
.highlight .gd { color: #A00000 } /* Generic.Deleted */
.highlight .ge { font-style: italic } /* Generic.Emph */
.highlight .gr { color: #FF0000 } /* Generic.Error */
.highlight .gh { color: #000080; font-weight: bold } /* Generic.Heading */
.highlight .gi { color: #00A000 } /* Generic.Inserted */
.highlight .go { color: #888888 } /* Generic.Output */
.highlight .gp { color: #000080; font-weight: bold } /* Generic.Prompt */
.highlight .gs { font-weight: bold } /* Generic.Strong */
.highlight .gu { color: #800080; font-weight: bold } /* Generic.Subheading */
.highlight .gt { color: #0044DD } /* Generic.Traceback */
.highlight .kc { color: #008000; font-weight: bold } /* Keyword.Constant */
.highlight .kd { color: #008000; font-weight: bold } /* Keyword.Declaration */
.highlight .kn { color: #008000; font-weight: bold } /* Keyword.Namespace */
.highlight .kp { color: #008000 } /* Keyword.Pseudo */
.highlight .kr { color: #008000; font-weight: bold } /* Keyword.Reserved */
.highlight .kt { color: #B00040 } /* Keyword.Type */
.highlight .m { color: #666666 } /* Literal.Number */
.highlight .s { color: #BA2121 } /* Literal.String */
.highlight .na { color: #7D9029 } /* Name.Attribute */
.highlight .nb { color: #008000 } /* Name.Builtin */
.highlight .nc { color: #0000FF; font-weight: bold } /* Name.Class */
.highlight .no { color: #880000 } /* Name.Constant */
.highlight .nd { color: #AA22FF } /* Name.Decorator */
.highlight .ni { color: #999999; font-weight: bold } /* Name.Entity */
.highlight .ne { color: #D2413A; font-weight: bold } /* Name.Exception */
.highlight .nf { color: #0000FF } /* Name.Function */
.highlight .nl { color: #A0A000 } /* Name.Label */
.highlight .nn { color: #0000FF; font-weight: bold } /* Name.Namespace */
.highlight .nt { color: #008000; font-weight: bold } /* Name.Tag */
.highlight .nv { color: #19177C } /* Name.Variable */
.highlight .ow { color: #AA22FF; font-weight: bold } /* Operator.Word */
.highlight .w { color: #bbbbbb } /* Text.Whitespace */
.highlight .mb { color: #666666 } /* Literal.Number.Bin */
.highlight .mf { color: #666666 } /* Literal.Number.Float */
.highlight .mh { color: #666666 } /* Literal.Number.Hex */
.highlight .mi { color: #666666 } /* Literal.Number.Integer */
.highlight .mo { color: #666666 } /* Literal.Number.Oct */
.highlight .sb { color: #BA2121 } /* Literal.String.Backtick */
.highlight .sc { color: #BA2121 } /* Literal.String.Char */
.highlight .sd { color: #BA2121; font-style: italic } /* Literal.String.Doc */
.highlight .s2 { color: #BA2121 } /* Literal.String.Double */
.highlight .se { color: #BB6622; font-weight: bold } /* Literal.String.Escape */
.highlight .sh { color: #BA2121 } /* Literal.String.Heredoc */
.highlight .si { color: #BB6688; font-weight: bold } /* Literal.String.Interpol */
.highlight .sx { color: #008000 } /* Literal.String.Other */
.highlight .sr { color: #BB6688 } /* Literal.String.Regex */
.highlight .s1 { color: #BA2121 } /* Literal.String.Single */
.highlight .ss { color: #19177C } /* Literal.String.Symbol */
.highlight .bp { color: #008000 } /* Name.Builtin.Pseudo */
.highlight .vc { color: #19177C } /* Name.Variable.Class */
.highlight .vg { color: #19177C } /* Name.Variable.Global */
.highlight .vi { color: #19177C } /* Name.Variable.Instance */
.highlight .il { color: #666666 } /* Literal.Number.Integer.Long */
    </style>
<style type="text/css">
    
/* Temporary definitions which will become obsolete with Notebook release 5.0 */
.ansi-black-fg { color: #3E424D; }
.ansi-black-bg { background-color: #3E424D; }
.ansi-black-intense-fg { color: #282C36; }
.ansi-black-intense-bg { background-color: #282C36; }
.ansi-red-fg { color: #E75C58; }
.ansi-red-bg { background-color: #E75C58; }
.ansi-red-intense-fg { color: #B22B31; }
.ansi-red-intense-bg { background-color: #B22B31; }
.ansi-green-fg { color: #00A250; }
.ansi-green-bg { background-color: #00A250; }
.ansi-green-intense-fg { color: #007427; }
.ansi-green-intense-bg { background-color: #007427; }
.ansi-yellow-fg { color: #DDB62B; }
.ansi-yellow-bg { background-color: #DDB62B; }
.ansi-yellow-intense-fg { color: #B27D12; }
.ansi-yellow-intense-bg { background-color: #B27D12; }
.ansi-blue-fg { color: #208FFB; }
.ansi-blue-bg { background-color: #208FFB; }
.ansi-blue-intense-fg { color: #0065CA; }
.ansi-blue-intense-bg { background-color: #0065CA; }
.ansi-magenta-fg { color: #D160C4; }
.ansi-magenta-bg { background-color: #D160C4; }
.ansi-magenta-intense-fg { color: #A03196; }
.ansi-magenta-intense-bg { background-color: #A03196; }
.ansi-cyan-fg { color: #60C6C8; }
.ansi-cyan-bg { background-color: #60C6C8; }
.ansi-cyan-intense-fg { color: #258F8F; }
.ansi-cyan-intense-bg { background-color: #258F8F; }
.ansi-white-fg { color: #C5C1B4; }
.ansi-white-bg { background-color: #C5C1B4; }
.ansi-white-intense-fg { color: #A1A6B2; }
.ansi-white-intense-bg { background-color: #A1A6B2; }

.ansi-bold { font-weight: bold; }

    </style>
<style type="text/css">
    

p { line-height: 140%; }



div.input_prompt {font-size:80%;line-height: 20+0%;}
*div.output_prompt {font-size:80%;} 
div.input_area {
font-size:200%;
}
div.output_area pre {font-size:80%; } 
div.output_subarea {font-size:80%;}


div.output_html { font-size:80%; }




.cm-s-ipython.CodeMirror {font-size:80%;}
.cm-s-ipython div.CodeMirror-selected {font-size:80%;}
.cm-s-ipython .CodeMirror-gutters {font-size:80%;}
.cm-s-ipython .CodeMirror-linenumber {font-size:80%;}
.cm-s-ipython .CodeMirror-cursor {font-size:80%;}

.cm-s-ipython span.cm-comment {font-size:80%;}
.cm-s-ipython span.cm-atom {font-size:80%;}
.cm-s-ipython span.cm-number {font-size:80%;}

.cm-s-ipython span.cm-property, .cm-s-ipython span.cm-attribute {font-size:200%;}
.cm-s-ipython span.cm-keyword {font-size:80%;}
.cm-s-ipython span.cm-string {font-size:80%;}
.cm-s-ipython span.cm-operator {font-size:80%;}
.cm-s-ipython span.cm-builtin {font-size:80%;}

.cm-s-ipython span.cm-variable {font-size:80%;}
.cm-s-ipython span.cm-variable-2 {font-size:80%;}
.cm-s-ipython span.cm-def {font-size:80%;}
.cm-s-ipython span.cm-error {font-size:80%;}
.cm-s-ipython span.cm-bracket {font-size:80%;}
.cm-s-ipython span.cm-tag {font-size:80%;}
.cm-s-ipython span.cm-link {font-size:80%;}


div.cell.selected {font-size:80%;line-height: 140%; }
div.cell.edit_mode {font-size:80%;line-height: 140%; }
div.text_cell_render, div.output_html {font-size:200%;line-height: 140%; }



    </style>


<style type="text/css">
/* Overrides of notebook CSS for static HTML export */
body {
  overflow: visible;
  padding: 8px;
}

div#notebook {
  overflow: visible;
  border-top: none;
}

@media print {
  div.cell {
    display: block;
    page-break-inside: avoid;
  } 
  div.output_wrapper { 
    display: block;
    page-break-inside: avoid; 
  }
  div.output { 
    display: block;
    page-break-inside: avoid; 
  }
}
</style>

<!-- Loading mathjax macro -->
<!-- Load mathjax -->
    <script src="https://cdn.mathjax.org/mathjax/latest/MathJax.js?config=TeX-AMS_HTML"></script>
    <!-- MathJax configuration -->
    <script type="text/x-mathjax-config">
    MathJax.Hub.Config({
        tex2jax: {
            inlineMath: [ ['$','$'], ["\\(","\\)"] ],
            displayMath: [ ['$$','$$'], ["\\[","\\]"] ],
            processEscapes: true,
            processEnvironments: true
        },
        // Center justify equations in code and markdown cells. Elsewhere
        // we use CSS to left justify single line equations in code cells.
        displayAlign: 'center',
        "HTML-CSS": {
            styles: {'.MathJax_Display': {"margin": 0}},
            linebreaks: { automatic: true }
        }
    });
    </script>
    <!-- End of mathjax configuration -->
	
	
<body>
  <div tabindex="-1" id="notebook" class="border-box-sizing">
    <div class="container" id="notebook-container">

<div class="cell border-box-sizing text_cell rendered">
<div class="prompt input_prompt">
</div>
<div class="inner_cell">
<div class="text_cell_render border-box-sizing rendered_html">
<h3 style="color:#994d00;text-align:center" id="Using-Amazon-Relational-Database-Service-with-Python-and-R">Using Amazon Relational Database Service with Python and R<a class="anchor-link" href="#Using-Amazon-Relational-Database-Service-with-Python-and-R">&#182;</a></h3>
</div>
</div>
</div>
<div class="cell border-box-sizing text_cell rendered">
<div class="prompt input_prompt">
</div>
<div class="inner_cell">
<div class="text_cell_render border-box-sizing rendered_html">
<p>When we analyze data in R or Python, it is a common practice to save data in csv, or other native formats. 
However, saving our data in a database has many advantages. Using databases has huge advantage when our data is big where loading it is impossible or 
slows down our analytics. If our data resides in a database, rather than loading the whole data, we can work with subsets or aggregates of the 
data that we are interested in. This helps to have plenty of memory for our actual analysis. Further, if we 
have many data files, putting our data in a database, rather than in csv or other format, has better security and is easier to manage. 
Putting our data in a database is also more convinient for collaboration since we can give access to the tables  and operations we want.</p>

</div>
</div>
</div>
<div class="cell border-box-sizing text_cell rendered">
<div class="prompt input_prompt">
</div>
<div class="inner_cell">
<div class="text_cell_render border-box-sizing rendered_html">
<p>In this blog post, we will see how to use R and Python with Amazon Relational Database Service (RDS). Amazon RDS is a distributed relational database service by Amazon Web Services (AWS). It simplifies the setup, operation, and scaling of a relational database for use in applications. Amazon RDS does frequent backups and easy replication across instances and this saves us from losing our data. Amazon RDS cosists of MySQL, MariaDB, PostgreSQL, Oracle, SQL Server and Aurora. In this blog post, we will see how to connect R and Python with MySQL, transfer data to the database, query it and use the queried data for further analysis using Pandas in Python and dplyr in R.</p>

</div>
</div>
</div>
<div class="cell border-box-sizing text_cell rendered">
<div class="prompt input_prompt">
</div>
<div class="inner_cell">
<div class="text_cell_render border-box-sizing rendered_html">
<p>Amazon provides MySQL service for free for one year. You check it <a href="https://aws.amazon.com/rds/free/">here</a></p>

</div>
</div>
</div>
<div class="cell border-box-sizing text_cell rendered">
<div class="prompt input_prompt">
</div>
<div class="inner_cell">
<div class="text_cell_render border-box-sizing rendered_html">
<h4 id="Launching-an-AWS-Database-(DB)-instance">Launching an AWS Database (DB) instance<a class="anchor-link" href="#Launching-an-AWS-Database-(DB)-instance">&#182;</a></h4>
</div>
</div>
</div>
<div class="cell border-box-sizing text_cell rendered">
<div class="prompt input_prompt">
</div>
<div class="inner_cell">
<div class="text_cell_render border-box-sizing rendered_html">
<ol>
<li>If you do not have an AWS account, the first step is opening one. You can visit <a href="https://aws.amazon.com/rds/free/">this</a> to open an account.</li>
<li>Once you create an account, click at "Services" at the top left corner and then select "Database RDS"</li>
<img style="margin:0px auto;display:block" src="../figures/fig1.PNG", height="400" width="600"/>
<li>Click "Get Started Now" and select "MySQL"</li>
<img style="margin:0px auto;display:block" src="../figures/fig2.PNG", height="400" width="600"/>
<img style="margin:0px auto;display:block" src="../figures/fig3.PNG", height="400" width="600"/>
<li>On the next page, on step 2, select "Dev/Test". Note the production version is not free.</li>
<img style="margin:0px auto;display:block" src="../figures/fig4.PNG", height="400" width="600"/>
<li>On the next page, on step 3, specifiy DB details. Make sure to choose free tier by selecting the radio buttion that says "Only show options that are eligible for RDS Free Tier". Provide username and password and make a note of them as we will use them to connect to the database using R and Python.</li>
 <img style="margin:0px auto;display:block" src="../figures/fig5.PNG", height="400" width="600"/>
<li>On the next page, provide database name and keep a note of the database port (by default it is 3306)</li>
 <img style="margin:0px auto;display:block" src="../figures/fig6.PNG", height="400" width="600"/>
<li>Once the DB instance is available, you will see the instance Endpoint, which is what we will use to specify the host when we connect R and Python to the database instance.</li>
<img style="margin:0px auto;display:block" src="../figures/fig8.PNG", height="300" width="900"/>
</ol>

</div>
</div>
</div>
<div class="cell border-box-sizing text_cell rendered">
<div class="prompt input_prompt">
</div>
<div class="inner_cell">
<div class="text_cell_render border-box-sizing rendered_html">
<h4 id="Working-with-AWS-RDS-MySQL-with-R"  style="color:blue;text-align:center">Working with AWS RDS MySQL with R<a class="anchor-link" href="#Working-with-AWS-RDS-MySQL-with-R">&#182;</a></h4>
</div>
</div>
</div>
<div class="cell border-box-sizing text_cell rendered">
<div class="prompt input_prompt">
</div>
<div class="inner_cell">
<div class="text_cell_render border-box-sizing rendered_html">
<p>To connect R with the database, we will use the <strong>dplyr</strong> package.</p>

</div>
</div>
</div>
<div class="cell border-box-sizing code_cell rendered">
<div class="input">
<div class="prompt input_prompt">In&nbsp;[2]:</div>
<div class="inner_cell">
    <div class="input_area">
<div class=" highlight hl-ipython3"><pre><span></span><span class="n">library</span><span class="p">(</span><span class="n">dplyr</span><span class="p">)</span>
</pre></div>

</div>
</div>
</div>

</div>
<div class="cell border-box-sizing text_cell rendered">
<div class="prompt input_prompt">
</div>
<div class="inner_cell">
<div class="text_cell_render border-box-sizing rendered_html">
<p>We use <strong>src_mysql</strong> to connect to MySQL.</p>

</div>
</div>
</div>
<div class="cell border-box-sizing code_cell rendered">
<div class="input">
<div class="prompt input_prompt">In&nbsp;[3]:</div>
<div class="inner_cell">
    <div class="input_area">
<div class=" highlight hl-ipython3"><pre><span></span><span class="n">host</span><span class="o">=</span><span class="s2">&quot;forrpython.cab6rvva6lca.us-east-1.rds.amazonaws.com&quot;</span>
<span class="n">port</span><span class="o">=</span><span class="mi">3306</span>
<span class="n">dbname</span><span class="o">=</span><span class="s2">&quot;ForRPython&quot;</span>
<span class="n">user</span><span class="o">=</span><span class="s2">&quot;your_username&quot;</span>
<span class="n">password</span><span class="o">=</span><span class="s2">&quot;your_password&quot;</span>

<span class="n">my_db</span><span class="o">=</span><span class="n">src_mysql</span><span class="p">(</span><span class="n">dbname</span><span class="o">=</span><span class="n">dbname</span><span class="p">,</span><span class="n">host</span><span class="o">=</span><span class="n">host</span><span class="p">,</span><span class="n">port</span><span class="o">=</span><span class="n">port</span><span class="p">,</span><span class="n">user</span><span class="o">=</span><span class="n">user</span><span class="p">,</span><span class="n">password</span><span class="o">=</span><span class="n">password</span><span class="p">)</span>
</pre></div>

</div>
</div>
</div>

</div>
<div class="cell border-box-sizing text_cell rendered">
<div class="prompt input_prompt">
</div>
<div class="inner_cell">
<div class="text_cell_render border-box-sizing rendered_html">
<p>To list the tables in the database, we use the <strong>src_tbls</strong> function.</p>

</div>
</div>
</div>
<div class="cell border-box-sizing code_cell rendered">
<div class="input">
<div class="prompt input_prompt">In&nbsp;[&nbsp;]:</div>
<div class="inner_cell">
    <div class="input_area">
<div class=" highlight hl-ipython3"><pre><span></span><span class="n">src_tbls</span><span class="p">(</span><span class="n">my_db</span><span class="p">)</span>
</pre></div>

</div>
</div>
</div>

</div>
<div class="cell border-box-sizing text_cell rendered">
<div class="prompt input_prompt">
</div>
<div class="inner_cell">
<div class="text_cell_render border-box-sizing rendered_html">
<p>Since we have not put any tables yet, <strong>src_tbls</strong> dispalys nothing.</p>

</div>
</div>
</div>
<div class="cell border-box-sizing text_cell rendered">
<div class="prompt input_prompt">
</div>
<div class="inner_cell">
<div class="text_cell_render border-box-sizing rendered_html">
<h5 id="Put-data-in-the-database">Put data in the database<a class="anchor-link" href="#Put-data-in-the-database">&#182;</a></h5>
</div>
</div>
</div>
<div class="cell border-box-sizing text_cell rendered">
<div class="prompt input_prompt">
</div>
<div class="inner_cell">
<div class="text_cell_render border-box-sizing rendered_html">
<h6 id="Data">Data<a class="anchor-link" href="#Data">&#182;</a></h6>
</div>
</div>
</div>
<div class="cell border-box-sizing text_cell rendered">
<div class="prompt input_prompt">
</div>
<div class="inner_cell">
<div class="text_cell_render border-box-sizing rendered_html">
<p>Now, let's transfer data to the databse. We will transfer flights data from the <strong>nycflights13</strong> package.This dataset contains all 336776 flights that departed from New York City in 2013.</p>

</div>
</div>
</div>
<div class="cell border-box-sizing text_cell rendered">
<div class="prompt input_prompt">
</div>
<div class="inner_cell">
<div class="text_cell_render border-box-sizing rendered_html">
<p>Some information about the data:</p>

</div>
</div>
</div>
<div class="cell border-box-sizing code_cell rendered">
<div class="input">
<div class="prompt input_prompt">In&nbsp;[123]:</div>
<div class="inner_cell">
    <div class="input_area">
<div class=" highlight hl-ipython3"><pre><span></span><span class="n">library</span><span class="p">(</span><span class="s1">&#39;nycflights13&#39;</span><span class="p">)</span>
<span class="n">paste0</span><span class="p">(</span><span class="s2">&quot;The flights data has &quot;</span><span class="p">,</span> <span class="n">nrow</span><span class="p">(</span><span class="n">flights</span><span class="p">),</span> <span class="s2">&quot; observations and the variables in the dataset are:&quot;</span><span class="p">)</span>
<span class="n">names</span><span class="p">(</span><span class="n">flights</span><span class="p">)</span>
</pre></div>

</div>
</div>
</div>

<div class="output_wrapper">
<div class="output">


<div class="output_area"><div class="prompt"></div>

<div class="output_html rendered_html output_subarea ">
'The flights data has 336776 observations and the variables in the dataset are:'
</div>

</div>

<div class="output_area"><div class="prompt"></div>

<div class="output_html rendered_html output_subarea ">
<ol class=list-inline>
	<li>'year'</li>
	<li>'month'</li>
	<li>'day'</li>
	<li>'dep_time'</li>
	<li>'sched_dep_time'</li>
	<li>'dep_delay'</li>
	<li>'arr_time'</li>
	<li>'sched_arr_time'</li>
	<li>'arr_delay'</li>
	<li>'carrier'</li>
	<li>'flight'</li>
	<li>'tailnum'</li>
	<li>'origin'</li>
	<li>'dest'</li>
	<li>'air_time'</li>
	<li>'distance'</li>
	<li>'hour'</li>
	<li>'minute'</li>
	<li>'time_hour'</li>
</ol>

</div>

</div>

</div>
</div>

</div>
<div class="cell border-box-sizing text_cell rendered">
<div class="prompt input_prompt">
</div>
<div class="inner_cell">
<div class="text_cell_render border-box-sizing rendered_html">
<p>The following function changes "NA" to "NaN" or empty string. If we have NA in our data frame, our data transfer to a database will fail.</p>

</div>
</div>
</div>
<div class="cell border-box-sizing code_cell rendered">
<div class="input">
<div class="prompt input_prompt">In&nbsp;[124]:</div>
<div class="inner_cell">
    <div class="input_area">
<div class=" highlight hl-ipython3"><pre><span></span><span class="n">make_mysql_compatible</span><span class="o">=</span><span class="n">function</span><span class="p">(</span><span class="n">data_frame</span><span class="p">){</span>
    <span class="k">for</span><span class="p">(</span><span class="n">this_col</span> <span class="ow">in</span> <span class="n">colnames</span><span class="p">(</span><span class="n">data_frame</span><span class="p">)){</span>
      <span class="n">isna</span><span class="o">=</span><span class="ow">is</span><span class="o">.</span><span class="n">na</span><span class="p">(</span><span class="n">data_frame</span><span class="p">[[</span><span class="n">this_col</span><span class="p">]])</span>
      <span class="k">if</span><span class="p">(</span><span class="nb">any</span><span class="p">(</span><span class="n">isna</span><span class="p">)){</span>
            <span class="k">if</span><span class="p">(</span><span class="ow">is</span><span class="o">.</span><span class="n">numeric</span><span class="p">(</span><span class="n">data_frame</span><span class="p">[[</span><span class="n">this_col</span><span class="p">]])){</span>
                <span class="n">data_frame</span><span class="p">[[</span><span class="n">this_col</span><span class="p">]][</span><span class="n">isna</span><span class="p">]</span><span class="o">=</span><span class="n">NaN</span>
            <span class="p">}</span>
             <span class="k">if</span><span class="p">(</span><span class="ow">is</span><span class="o">.</span><span class="n">character</span><span class="p">(</span><span class="n">data_frame</span><span class="p">[[</span><span class="n">this_col</span><span class="p">]])){</span>
                <span class="n">data_frame</span><span class="p">[[</span><span class="n">this_col</span><span class="p">]][</span><span class="n">isna</span><span class="p">]</span><span class="o">=</span><span class="s1">&#39;&#39;</span>
            <span class="p">}</span>
          <span class="p">}</span>
        <span class="p">}</span>
    <span class="k">return</span><span class="p">(</span><span class="n">data_frame</span><span class="p">)</span>
    <span class="p">}</span>
</pre></div>

</div>
</div>
</div>

</div>
<div class="cell border-box-sizing code_cell rendered">
<div class="input">
<div class="prompt input_prompt">In&nbsp;[125]:</div>
<div class="inner_cell">
    <div class="input_area">
<div class=" highlight hl-ipython3"><pre><span></span><span class="n">flights</span><span class="o">=</span><span class="n">make_mysql_compatible</span><span class="p">(</span><span class="n">flights</span><span class="p">)</span>
</pre></div>

</div>
</div>
</div>

</div>
<div class="cell border-box-sizing text_cell rendered">
<div class="prompt input_prompt">
</div>
<div class="inner_cell">
<div class="text_cell_render border-box-sizing rendered_html">
<h6 id="Transfer-data">Transfer data<a class="anchor-link" href="#Transfer-data">&#182;</a></h6>
</div>
</div>
</div>
<div class="cell border-box-sizing text_cell rendered">
<div class="prompt input_prompt">
</div>
<div class="inner_cell">
<div class="text_cell_render border-box-sizing rendered_html">
<p>To upload data to the database, we use the dplyr function <strong>copy_to</strong>. According to the <a href="https://cran.r-project.org/web/packages/dplyr/vignettes/databases.html">documentation</a>, wherever possible, the new object will be temporary, limited to the current connection to the source. So, we have to change temporary to false to make it permament.</p>

</div>
</div>
</div>
<div class="cell border-box-sizing code_cell rendered">
<div class="input">
<div class="prompt input_prompt">In&nbsp;[126]:</div>
<div class="inner_cell">
    <div class="input_area">
<div class=" highlight hl-ipython3"><pre><span></span><span class="n">copy_to</span><span class="p">(</span><span class="n">my_db</span><span class="p">,</span><span class="n">flights</span><span class="p">,</span><span class="n">temporary</span> <span class="o">=</span> <span class="n">FALSE</span><span class="p">)</span> <span class="c1"># uploading flights data</span>
</pre></div>

</div>
</div>
</div>

<div class="output_wrapper">
<div class="output">


<div class="output_area"><div class="prompt"></div>


<div class="output_text output_subarea ">
<pre>Source:   query [?? x 19]
Database: mysql 5.6.27-log [<a href="/cdn-cgi/l/email-protection" class="__cf_email__" data-cfemail="047d6b71765b717761766a65696144626b7676747d706c6b6a2a6765663276727265326867652a7177296165777029352a7660772a6569657e6b6a6573772a676b">[email&#160;protected]</a>m:/ForRPython]

    year month   day dep_time sched_dep_time dep_delay arr_time sched_arr_time
   &lt;int&gt; &lt;int&gt; &lt;int&gt;    &lt;dbl&gt;          &lt;int&gt;     &lt;dbl&gt;    &lt;dbl&gt;          &lt;int&gt;
1   2013     1     1      517            515         2      830            819
2   2013     1     1      533            529         4      850            830
3   2013     1     1      542            540         2      923            850
4   2013     1     1      544            545        -1     1004           1022
5   2013     1     1      554            600        -6      812            837
6   2013     1     1      554            558        -4      740            728
7   2013     1     1      555            600        -5      913            854
8   2013     1     1      557            600        -3      709            723
9   2013     1     1      557            600        -3      838            846
10  2013     1     1      558            600        -2      753            745
# ... with more rows, and 11 more variables: arr_delay &lt;dbl&gt;, carrier &lt;chr&gt;,
#   flight &lt;int&gt;, tailnum &lt;chr&gt;, origin &lt;chr&gt;, dest &lt;chr&gt;, air_time &lt;dbl&gt;,
#   distance &lt;dbl&gt;, hour &lt;dbl&gt;, minute &lt;dbl&gt;, time_hour &lt;chr&gt;</pre>
</div>

</div>

</div>
</div>

</div>
<div class="cell border-box-sizing text_cell rendered">
<div class="prompt input_prompt">
</div>
<div class="inner_cell">
<div class="text_cell_render border-box-sizing rendered_html">
<p>Now, let's check if the table have been transferred.</p>

</div>
</div>
</div>
<div class="cell border-box-sizing code_cell rendered">
<div class="input">
<div class="prompt input_prompt">In&nbsp;[128]:</div>
<div class="inner_cell">
    <div class="input_area">
<div class=" highlight hl-ipython3"><pre><span></span><span class="n">src_tbls</span><span class="p">(</span><span class="n">my_db</span><span class="p">)</span>
</pre></div>

</div>
</div>
</div>

<div class="output_wrapper">
<div class="output">


<div class="output_area"><div class="prompt"></div>

<div class="output_html rendered_html output_subarea ">
'flights'
</div>

</div>

</div>
</div>

</div>
<div class="cell border-box-sizing text_cell rendered">
<div class="prompt input_prompt">
</div>
<div class="inner_cell">
<div class="text_cell_render border-box-sizing rendered_html">
<p>We have transfered the data. Now, we can query agaist the database. To connect to a table, we use the <strong>tbl</strong> function. We use the same dplyr verbs that we use in data manipulation to work with databases. dplyr translates the R code we write to SQL code.</p>

</div>
</div>
</div>
<div class="cell border-box-sizing code_cell rendered">
<div class="input">
<div class="prompt input_prompt">In&nbsp;[129]:</div>
<div class="inner_cell">
    <div class="input_area">
<div class=" highlight hl-ipython3"><pre><span></span><span class="n">flights_DB</span> <span class="o">=</span> <span class="n">tbl</span><span class="p">(</span><span class="n">my_db</span><span class="p">,</span><span class="s2">&quot;flights&quot;</span><span class="p">)</span>
</pre></div>

</div>
</div>
</div>

</div>
<div class="cell border-box-sizing code_cell rendered">
<div class="input">
<div class="prompt input_prompt">In&nbsp;[130]:</div>
<div class="inner_cell">
    <div class="input_area">
<div class=" highlight hl-ipython3"><pre><span></span><span class="n">class</span><span class="p">(</span><span class="n">flights_DB</span><span class="p">)</span>
</pre></div>

</div>
</div>
</div>

<div class="output_wrapper">
<div class="output">


<div class="output_area"><div class="prompt"></div>

<div class="output_html rendered_html output_subarea ">
<ol class=list-inline>
	<li>'tbl_mysql'</li>
	<li>'tbl_sql'</li>
	<li>'tbl_lazy'</li>
	<li>'tbl'</li>
</ol>

</div>

</div>

</div>
</div>

</div>
<div class="cell border-box-sizing text_cell rendered">
<div class="prompt input_prompt">
</div>
<div class="inner_cell">
<div class="text_cell_render border-box-sizing rendered_html">
<ul>
<li>How many distinct origins are there in the flights table?</li>
</ul>

</div>
</div>
</div>
<div class="cell border-box-sizing code_cell rendered">
<div class="input">
<div class="prompt input_prompt">In&nbsp;[131]:</div>
<div class="inner_cell">
    <div class="input_area">
<div class=" highlight hl-ipython3"><pre><span></span><span class="n">cat</span><span class="p">(</span><span class="s2">&quot;Number of Distinct flights:&quot;</span><span class="p">)</span>
<span class="n">flights_DB</span><span class="o">%&gt;%</span>
      <span class="n">distinct</span><span class="p">(</span><span class="n">origin</span><span class="p">)</span><span class="o">%&gt;%</span>
      <span class="n">count</span><span class="p">()</span>
</pre></div>

</div>
</div>
</div>

<div class="output_wrapper">
<div class="output">


<div class="output_area"><div class="prompt"></div>
<div class="output_subarea output_stream output_stdout output_text">
<pre>Number of Distinct flights:</pre>
</div>
</div>

<div class="output_area"><div class="prompt"></div>


<div class="output_text output_subarea ">
<pre>Source:   query [?? x 1]
Database: mysql 5.6.27-log [<a href="/cdn-cgi/l/email-protection" class="__cf_email__" data-cfemail="b0c9dfc5c2efc5c3d5c2ded1ddd5f0d6dfc2c2c0c9c4d8dfde9ed3d1d286c2c6c6d186dcd3d19ec5c39dd5d1c3c49d819ec2d4c39ed1ddd1cadfded1c7c39ed3df">[email&#160;protected]</a>m:/ForRPython]

      n
  &lt;dbl&gt;
1     3</pre>
</div>

</div>

</div>
</div>

</div>
<div class="cell border-box-sizing text_cell rendered">
<div class="prompt input_prompt">
</div>
<div class="inner_cell">
<div class="text_cell_render border-box-sizing rendered_html">
<ul>
<li>How many flights were made on January first?</li>
</ul>

</div>
</div>
</div>
<div class="cell border-box-sizing code_cell rendered">
<div class="input">
<div class="prompt input_prompt">In&nbsp;[132]:</div>
<div class="inner_cell">
    <div class="input_area">
<div class=" highlight hl-ipython3"><pre><span></span><span class="nb">filter</span><span class="p">(</span><span class="n">flights_DB</span><span class="p">,</span> <span class="n">month</span><span class="o">==</span><span class="mi">1</span><span class="p">,</span> <span class="n">day</span><span class="o">==</span><span class="mi">1</span><span class="p">)</span><span class="o">%&gt;%</span><span class="k">count</span>()
</pre></div>

</div>
</div>
</div>

<div class="output_wrapper">
<div class="output">


<div class="output_area"><div class="prompt"></div>


<div class="output_text output_subarea ">
<pre>Source:   query [?? x 1]
Database: mysql 5.6.27-log [<a href="/cdn-cgi/l/email-protection" class="__cf_email__" data-cfemail="83faecf6f1dcf6f0e6f1ede2eee6c3e5ecf1f1f3faf7ebecedade0e2e1b5f1f5f5e2b5efe0e2adf6f0aee6e2f0f7aeb2adf1e7f0ade2eee2f9ecede2f4f0ade0ec">[email&#160;protected]</a>m:/ForRPython]

      n
  &lt;dbl&gt;
1   842</pre>
</div>

</div>

</div>
</div>

</div>
<div class="cell border-box-sizing text_cell rendered">
<div class="prompt input_prompt">
</div>
<div class="inner_cell">
<div class="text_cell_render border-box-sizing rendered_html">
<ul>
<li>What is the most common carrier?</li>
</ul>

</div>
</div>
</div>
<div class="cell border-box-sizing code_cell rendered">
<div class="input">
<div class="prompt input_prompt">In&nbsp;[99]:</div>
<div class="inner_cell">
    <div class="input_area">
<div class=" highlight hl-ipython3"><pre><span></span><span class="n">flights_DB</span><span class="o">%&gt;%</span>
      <span class="n">group_by</span><span class="p">(</span><span class="n">carrier</span><span class="p">)</span><span class="o">%&gt;%</span>
      <span class="n">summarize</span><span class="p">(</span><span class="n">Count</span><span class="o">=</span><span class="n">n</span><span class="p">())</span><span class="o">%&gt;%</span>
      <span class="n">arrange</span><span class="p">(</span><span class="n">desc</span><span class="p">(</span><span class="n">Count</span><span class="p">))</span><span class="o">%&gt;%</span><span class="k">head</span>(1)
</pre></div>

</div>
</div>
</div>

<div class="output_wrapper">
<div class="output">


<div class="output_area"><div class="prompt"></div>


<div class="output_text output_subarea ">
<pre>Source:   query [?? x 2]
Database: mysql 5.6.27-log [<a href="/cdn-cgi/l/email-protection" class="__cf_email__" data-cfemail="0c7563797e53797f697e626d61694c6a637e7e7c7578646362226f6d6e3a7e7a7a6d3a606f6d22797f21696d7f78213d227e687f226d616d7663626d7b7f226f63">[email&#160;protected]</a>m:/ForRPython]

  carrier Count
    &lt;chr&gt; &lt;dbl&gt;
1      UA 58665</pre>
</div>

</div>

</div>
</div>

</div>
<div class="cell border-box-sizing text_cell rendered">
<div class="prompt input_prompt">
</div>
<div class="inner_cell">
<div class="text_cell_render border-box-sizing rendered_html">
<ul>
<li>Which months have the highest number of flights?</li>
</ul>

</div>
</div>
</div>
<div class="cell border-box-sizing code_cell rendered">
<div class="input">
<div class="prompt input_prompt">In&nbsp;[133]:</div>
<div class="inner_cell">
    <div class="input_area">
<div class=" highlight hl-ipython3"><pre><span></span><span class="n">library</span><span class="p">(</span><span class="n">ggplot2</span><span class="p">)</span>

<span class="n">flights_DB</span><span class="o">%&gt;%</span>
       <span class="n">group_by</span><span class="p">(</span><span class="n">month</span><span class="p">)</span><span class="o">%&gt;%</span>
       <span class="n">summarize</span><span class="p">(</span><span class="n">Total</span><span class="o">=</span><span class="n">n</span><span class="p">())</span><span class="o">%&gt;%</span>
       <span class="n">collect</span><span class="p">()</span><span class="o">%&gt;%</span>
       <span class="n">ggplot</span><span class="p">(</span><span class="n">aes</span><span class="p">(</span><span class="n">x</span><span class="o">=</span><span class="k">as</span><span class="o">.</span><span class="n">factor</span><span class="p">(</span><span class="n">month</span><span class="p">),</span><span class="n">y</span><span class="o">=</span><span class="n">Total</span><span class="p">))</span><span class="o">+</span>
        <span class="n">geom_bar</span><span class="p">(</span><span class="n">stat</span><span class="o">=</span><span class="s2">&quot;identity&quot;</span><span class="p">,</span><span class="n">color</span><span class="o">=</span><span class="s2">&quot;purple&quot;</span><span class="p">,</span><span class="n">fill</span><span class="o">=</span><span class="s2">&quot;skyblue&quot;</span><span class="p">)</span><span class="o">+</span>
        <span class="n">coord_cartesian</span><span class="p">(</span><span class="n">ylim</span> <span class="o">=</span> <span class="n">c</span><span class="p">(</span><span class="mi">25000</span><span class="p">,</span><span class="mi">30000</span><span class="p">))</span> <span class="o">+</span><span class="n">xlab</span><span class="p">(</span><span class="s2">&quot;Months&quot;</span><span class="p">)</span>
</pre></div>

</div>
</div>
</div>

<div class="output_wrapper">
<div class="output">


<div class="output_area"><div class="prompt"></div>



</div>

<div class="output_area"><div class="prompt"></div>


<div class="output_png output_subarea ">
<img src="data:image/png;base64,iVBORw0KGgoAAAANSUhEUgAAA8AAAAHgCAIAAADlh5PTAAAABmJLR0QA/wD/AP+gvaeTAAAg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"
>
</div>

</div>

</div>
</div>

</div>
<div class="cell border-box-sizing text_cell rendered">
<div class="prompt input_prompt">
</div>
<div class="inner_cell">
<div class="text_cell_render border-box-sizing rendered_html">
<ul>
<li>What is the longest distance for each carrier?</li>
</ul>

</div>
</div>
</div>
<div class="cell border-box-sizing code_cell rendered">
<div class="input">
<div class="prompt input_prompt">In&nbsp;[136]:</div>
<div class="inner_cell">
    <div class="input_area">
<div class=" highlight hl-ipython3"><pre><span></span><span class="n">flights_DB</span><span class="o">%&gt;%</span>
       <span class="n">group_by</span><span class="p">(</span><span class="n">carrier</span><span class="p">)</span><span class="o">%&gt;%</span>
       <span class="n">summarize</span><span class="p">(</span><span class="n">Longest_distance</span><span class="o">=</span><span class="nb">max</span><span class="p">(</span><span class="n">distance</span><span class="p">))</span><span class="o">%&gt;%</span>
       <span class="n">collect</span><span class="p">()</span><span class="o">%&gt;%</span>
       <span class="n">ggplot</span><span class="p">(</span><span class="n">aes</span><span class="p">(</span><span class="n">x</span><span class="o">=</span><span class="n">carrier</span><span class="p">,</span><span class="n">y</span><span class="o">=</span><span class="n">Longest_distance</span><span class="p">))</span><span class="o">+</span>
       <span class="n">geom_point</span><span class="p">(</span><span class="n">color</span><span class="o">=</span><span class="s2">&quot;red&quot;</span><span class="p">,</span><span class="n">aes</span><span class="p">(</span><span class="n">size</span><span class="o">=</span><span class="n">Longest_distance</span><span class="p">))</span>
</pre></div>

</div>
</div>
</div>

<div class="output_wrapper">
<div class="output">


<div class="output_area"><div class="prompt"></div>



</div>

<div class="output_area"><div class="prompt"></div>


<div class="output_png output_subarea ">
<img src="data:image/png;base64,iVBORw0KGgoAAAANSUhEUgAAA8AAAAHgCAIAAADlh5PTAAAABmJLR0QA/wD/AP+gvaeTAAAg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"
>
</div>

</div>

</div>
</div>

</div>
<div class="cell border-box-sizing text_cell rendered">
<div class="prompt input_prompt">
</div>
<div class="inner_cell">
<div class="text_cell_render border-box-sizing rendered_html">
<ul>
<li>What are the five most common flight routes?</li>
</ul>

</div>
</div>
</div>
<div class="cell border-box-sizing code_cell rendered">
<div class="input">
<div class="prompt input_prompt">In&nbsp;[137]:</div>
<div class="inner_cell">
    <div class="input_area">
<div class=" highlight hl-ipython3"><pre><span></span><span class="n">flights_DB</span><span class="o">%&gt;%</span>
     <span class="n">group_by</span><span class="p">(</span><span class="n">origin</span><span class="p">,</span><span class="n">dest</span><span class="p">)</span><span class="o">%&gt;%</span>
     <span class="n">summarize</span><span class="p">(</span><span class="n">Total_flights</span><span class="o">=</span><span class="n">n</span><span class="p">())</span><span class="o">%&gt;%</span>
     <span class="n">arrange</span><span class="p">(</span><span class="n">desc</span><span class="p">(</span><span class="n">Total_flights</span><span class="p">))</span><span class="o">%&gt;%</span>
     <span class="n">head</span><span class="p">(</span><span class="mi">5</span><span class="p">)</span>
</pre></div>

</div>
</div>
</div>

<div class="output_wrapper">
<div class="output">


<div class="output_area"><div class="prompt"></div>


<div class="output_text output_subarea ">
<pre>Source:   query [?? x 3]
Database: mysql 5.6.27-log [<a href="/cdn-cgi/l/email-protection" class="__cf_email__" data-cfemail="96eff9e3e4c9e3e5f3e4f8f7fbf3d6f0f9e4e4e6efe2fef9f8b8f5f7f4a0e4e0e0f7a0faf5f7b8e3e5bbf3f7e5e2bba7b8e4f2e5b8f7fbf7ecf9f8f7e1e5b8f5f9">[email&#160;protected]</a>m:/ForRPython]
Groups: origin

  origin  dest Total_flights
   &lt;chr&gt; &lt;chr&gt;         &lt;dbl&gt;
1    JFK   LAX         11262
2    LGA   ATL         10263
3    LGA   ORD          8857
4    JFK   SFO          8204
5    LGA   CLT          6168</pre>
</div>

</div>

</div>
</div>

</div>
<div class="cell border-box-sizing text_cell rendered">
<div class="prompt input_prompt">
</div>
<div class="inner_cell">
<div class="text_cell_render border-box-sizing rendered_html">
<ul>
<li>Is the carrier with the highest departure delay also with the highest arrival delay?</li>
</ul>

</div>
</div>
</div>
<div class="cell border-box-sizing code_cell rendered">
<div class="input">
<div class="prompt input_prompt">In&nbsp;[138]:</div>
<div class="inner_cell">
    <div class="input_area">
<div class=" highlight hl-ipython3"><pre><span></span><span class="n">cat</span><span class="p">(</span><span class="s2">&quot;The Carrier with the highest departure delay is &quot;</span><span class="p">)</span>
<span class="n">flights_DB</span><span class="o">%&gt;%</span>
     <span class="n">group_by</span><span class="p">(</span><span class="n">carrier</span><span class="p">)</span><span class="o">%&gt;%</span>
     <span class="n">summarize</span><span class="p">(</span><span class="n">Highest_departure_delay</span><span class="o">=</span><span class="nb">max</span><span class="p">(</span><span class="n">dep_delay</span><span class="p">))</span><span class="o">%&gt;%</span>
     <span class="n">arrange</span><span class="p">(</span><span class="n">desc</span><span class="p">(</span><span class="n">Highest_departure_delay</span><span class="p">))</span><span class="o">%&gt;%</span>
     <span class="n">head</span><span class="p">(</span><span class="mi">1</span><span class="p">)</span>
</pre></div>

</div>
</div>
</div>

<div class="output_wrapper">
<div class="output">


<div class="output_area"><div class="prompt"></div>
<div class="output_subarea output_stream output_stdout output_text">
<pre>The Carrier with the highest departure delay is </pre>
</div>
</div>

<div class="output_area"><div class="prompt"></div>


<div class="output_text output_subarea ">
<pre>Source:   query [?? x 2]
Database: mysql 5.6.27-log [<a href="/cdn-cgi/l/email-protection" class="__cf_email__" data-cfemail="552c3a20270a202630273b34383015333a2727252c213d3a3b7b3634376327232334633936347b2026783034262178647b2731267b3438342f3a3b3422267b363a">[email&#160;protected]</a>m:/ForRPython]

  carrier Highest_departure_delay
    &lt;chr&gt;                   &lt;dbl&gt;
1      HA                    1301</pre>
</div>

</div>

</div>
</div>

</div>
<div class="cell border-box-sizing code_cell rendered">
<div class="input">
<div class="prompt input_prompt">In&nbsp;[139]:</div>
<div class="inner_cell">
    <div class="input_area">
<div class=" highlight hl-ipython3"><pre><span></span><span class="n">cat</span><span class="p">(</span><span class="s2">&quot;The Carrier with the highest arrival delay is &quot;</span><span class="p">)</span>
<span class="n">flights_DB</span><span class="o">%&gt;%</span>
     <span class="n">group_by</span><span class="p">(</span><span class="n">carrier</span><span class="p">)</span><span class="o">%&gt;%</span>
     <span class="n">summarize</span><span class="p">(</span><span class="n">Highest_arrival_delay</span><span class="o">=</span><span class="nb">max</span><span class="p">(</span><span class="n">arr_delay</span><span class="p">))</span><span class="o">%&gt;%</span>
     <span class="n">arrange</span><span class="p">(</span><span class="n">desc</span><span class="p">(</span><span class="n">Highest_arrival_delay</span><span class="p">))</span><span class="o">%&gt;%</span>
     <span class="n">head</span><span class="p">(</span><span class="mi">1</span><span class="p">)</span>
</pre></div>

</div>
</div>
</div>

<div class="output_wrapper">
<div class="output">


<div class="output_area"><div class="prompt"></div>
<div class="output_subarea output_stream output_stdout output_text">
<pre>The Carrier with the highest arrival delay is </pre>
</div>
</div>

<div class="output_area"><div class="prompt"></div>


<div class="output_text output_subarea ">
<pre>Source:   query [?? x 2]
Database: mysql 5.6.27-log [<a href="/cdn-cgi/l/email-protection" class="__cf_email__" data-cfemail="bdc4d2c8cfe2c8ced8cfd3dcd0d8fddbd2cfcfcdc4c9d5d2d393dedcdf8bcfcbcbdc8bd1dedc93c8ce90d8dccec9908c93cfd9ce93dcd0dcc7d2d3dccace93ded2">[email&#160;protected]</a>m:/ForRPython]

  carrier Highest_arrival_delay
    &lt;chr&gt;                 &lt;dbl&gt;
1      HA                  1272</pre>
</div>

</div>

</div>
</div>

</div>
<div class="cell border-box-sizing text_cell rendered">
<div class="prompt input_prompt">
</div>
<div class="inner_cell">
<div class="text_cell_render border-box-sizing rendered_html">
<ul>
<li>Are the unique destinations the same in all months?</li>
</ul>

</div>
</div>
</div>
<div class="cell border-box-sizing code_cell rendered">
<div class="input">
<div class="prompt input_prompt">In&nbsp;[147]:</div>
<div class="inner_cell">
    <div class="input_area">
<div class=" highlight hl-ipython3"><pre><span></span><span class="n">flights_DB</span><span class="o">%&gt;%</span>
      <span class="n">distinct</span><span class="p">(</span><span class="n">dest</span><span class="p">,</span> <span class="n">month</span><span class="p">)</span><span class="o">%&gt;%</span>
      <span class="n">group_by</span><span class="p">(</span><span class="n">month</span><span class="p">)</span><span class="o">%&gt;%</span>
      <span class="n">summarize</span><span class="p">(</span><span class="n">distinct_destinations</span><span class="o">=</span><span class="n">n</span><span class="p">())</span><span class="o">%&gt;%</span>
      <span class="n">collect</span><span class="p">()</span><span class="o">%&gt;%</span>
      <span class="n">mutate</span><span class="p">(</span><span class="n">month</span> <span class="o">=</span> <span class="n">factor</span><span class="p">(</span><span class="n">month</span><span class="p">,</span><span class="n">levels</span> <span class="o">=</span> <span class="n">month</span><span class="p">[</span><span class="n">order</span><span class="p">(</span><span class="n">distinct_destinations</span><span class="p">,</span><span class="n">decreasing</span> <span class="o">=</span><span class="n">T</span><span class="p">)]))</span><span class="o">%&gt;%</span>
      <span class="n">ggplot</span><span class="p">(</span><span class="n">aes</span><span class="p">(</span><span class="n">x</span><span class="o">=</span><span class="n">month</span><span class="p">,</span><span class="n">y</span><span class="o">=</span><span class="n">distinct_destinations</span><span class="p">))</span><span class="o">+</span>
          <span class="n">geom_bar</span><span class="p">(</span><span class="n">stat</span><span class="o">=</span><span class="s1">&#39;identity&#39;</span><span class="p">,</span><span class="n">color</span><span class="o">=</span><span class="s1">&#39;skyblue&#39;</span><span class="p">,</span><span class="n">fill</span><span class="o">=</span><span class="s1">&#39;#b35900&#39;</span><span class="p">)</span><span class="o">+</span>
          <span class="n">xlab</span><span class="p">(</span><span class="s2">&quot;&quot;</span><span class="p">)</span><span class="o">+</span><span class="n">ggtitle</span><span class="p">(</span><span class="s1">&#39;Number of unique destinantions for each month&#39;</span><span class="p">)</span><span class="o">+</span>
          <span class="n">ylab</span><span class="p">(</span><span class="s1">&#39;Count&#39;</span><span class="p">)</span><span class="o">+</span><span class="n">coord_cartesian</span><span class="p">(</span><span class="n">ylim</span> <span class="o">=</span> <span class="n">c</span><span class="p">(</span><span class="mi">80</span><span class="p">,</span><span class="mi">100</span><span class="p">))</span>
</pre></div>

</div>
</div>
</div>

<div class="output_wrapper">
<div class="output">


<div class="output_area"><div class="prompt"></div>



</div>

<div class="output_area"><div class="prompt"></div>


<div class="output_png output_subarea ">
<img src="data:image/png;base64,iVBORw0KGgoAAAANSUhEUgAAA8AAAAHgCAIAAADlh5PTAAAABmJLR0QA/wD/AP+gvaeTAAAg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"
>
</div>

</div>

</div>
</div>

</div>
<div class="cell border-box-sizing text_cell rendered">
<div class="prompt input_prompt">
</div>
<div class="inner_cell">
<div class="text_cell_render border-box-sizing rendered_html">
<h4 id="Working-with-AWS-RDS-MySQL-with-Python"  style="color:red;text-align:center">Working with AWS RDS MySQL with Python<a class="anchor-link" href="#Working-with-AWS-RDS-MySQL-with-Python">&#182;</a></h4>
</div>
</div>
</div>
<div class="cell border-box-sizing text_cell rendered">
<div class="prompt input_prompt">
</div>
<div class="inner_cell">
<div class="text_cell_render border-box-sizing rendered_html">
<p>We will use the <strong>pymysql</strong> package to connect to the database. After that, we will use Pandas for data analysis.</p>

</div>
</div>
</div>
<div class="cell border-box-sizing code_cell rendered">
<div class="input">
<div class="prompt input_prompt">In&nbsp;[10]:</div>
<div class="inner_cell">
    <div class="input_area">
<div class=" highlight hl-ipython3"><pre><span></span><span class="kn">import</span> <span class="nn">pandas</span> <span class="k">as</span> <span class="nn">pd</span>
<span class="kn">import</span> <span class="nn">pymysql</span>
</pre></div>

</div>
</div>
</div>

</div>
<div class="cell border-box-sizing text_cell rendered">
<div class="prompt input_prompt">
</div>
<div class="inner_cell">
<div class="text_cell_render border-box-sizing rendered_html">
<h5 id="Connect-to-database">Connect to database<a class="anchor-link" href="#Connect-to-database">&#182;</a></h5>
</div>
</div>
</div>
<div class="cell border-box-sizing text_cell rendered">
<div class="prompt input_prompt">
</div>
<div class="inner_cell">
<div class="text_cell_render border-box-sizing rendered_html">
<p>To connect to the database, we use the <strong>connect</strong> function from <strong>pymysql</strong>. The connect function returns a Connection object.</p>

</div>
</div>
</div>
<div class="cell border-box-sizing code_cell rendered">
<div class="input">
<div class="prompt input_prompt">In&nbsp;[14]:</div>
<div class="inner_cell">
    <div class="input_area">
<div class=" highlight hl-ipython3"><pre><span></span><span class="n">host</span><span class="o">=</span><span class="s2">&quot;forrpython.cab6rvva6lca.us-east-1.rds.amazonaws.com&quot;</span>
<span class="n">port</span><span class="o">=</span><span class="mi">3306</span>
<span class="n">dbname</span><span class="o">=</span><span class="s2">&quot;ForRPython&quot;</span>
<span class="n">user</span><span class="o">=</span><span class="s2">&quot;your_username&quot;</span>
<span class="n">password</span><span class="o">=</span><span class="s2">&quot;your_password&quot;</span>

<span class="n">conn</span> <span class="o">=</span> <span class="n">pymysql</span><span class="o">.</span><span class="n">connect</span><span class="p">(</span><span class="n">host</span><span class="p">,</span> <span class="n">user</span><span class="o">=</span><span class="n">user</span><span class="p">,</span><span class="n">port</span><span class="o">=</span><span class="n">port</span><span class="p">,</span>
                           <span class="n">passwd</span><span class="o">=</span><span class="n">password</span><span class="p">,</span> <span class="n">db</span><span class="o">=</span><span class="n">dbname</span><span class="p">)</span>
</pre></div>

</div>
</div>
</div>

</div>

<div class="cell border-box-sizing text_cell rendered">
<div class="prompt input_prompt">
</div>
<div class="inner_cell">
<div class="text_cell_render border-box-sizing rendered_html">
<ul>
<li>How many distinct origins are there in the flights table?</li>
</ul>

</div>
</div>
</div>
<div class="cell border-box-sizing code_cell rendered">
<div class="input">
<div class="prompt input_prompt">In&nbsp;[24]:</div>
<div class="inner_cell">
    <div class="input_area">
<div class=" highlight hl-ipython3"><pre><span></span><span class="n">pd</span><span class="o">.</span><span class="n">read_sql</span><span class="p">(</span><span class="s1">&#39;select count(distinct origin) AS &quot;Distinct Origins&quot; from flights;&#39;</span><span class="p">,</span> <span class="n">con</span><span class="o">=</span><span class="n">conn</span><span class="p">)</span> 
</pre></div>

</div>
</div>
</div>

<div class="output_wrapper">
<div class="output">


<div class="output_area"><div class="prompt output_prompt">Out[24]:</div>

<div class="output_html rendered_html output_subarea output_execute_result">
<div>
<table border="1" class="dataframe">
  <thead>
    <tr style="text-align: right;">
      <th></th>
      <th>Distinct Origins</th>
    </tr>
  </thead>
  <tbody>
    <tr>
      <th>0</th>
      <td>3</td>
    </tr>
  </tbody>
</table>
</div>
</div>

</div>

</div>
</div>

</div>
<div class="cell border-box-sizing text_cell rendered">
<div class="prompt input_prompt">
</div>
<div class="inner_cell">
<div class="text_cell_render border-box-sizing rendered_html">
<ul>
<li>How many flights were made on January first?</li>
</ul>

</div>
</div>
</div>
<div class="cell border-box-sizing code_cell rendered">
<div class="input">
<div class="prompt input_prompt">In&nbsp;[27]:</div>
<div class="inner_cell">
    <div class="input_area">
<div class=" highlight hl-ipython3"><pre><span></span><span class="n">pd</span><span class="o">.</span><span class="n">read_sql</span><span class="p">(</span><span class="s1">&#39;select count(year)  from flights where month=1 AND day=1;&#39;</span><span class="p">,</span> <span class="n">con</span><span class="o">=</span><span class="n">conn</span><span class="p">)</span> 
</pre></div>

</div>
</div>
</div>

<div class="output_wrapper">
<div class="output">


<div class="output_area"><div class="prompt output_prompt">Out[27]:</div>

<div class="output_html rendered_html output_subarea output_execute_result">
<div>
<table border="1" class="dataframe">
  <thead>
    <tr style="text-align: right;">
      <th></th>
      <th>count(year)</th>
    </tr>
  </thead>
  <tbody>
    <tr>
      <th>0</th>
      <td>842</td>
    </tr>
  </tbody>
</table>
</div>
</div>

</div>

</div>
</div>

</div>
<div class="cell border-box-sizing text_cell rendered">
<div class="prompt input_prompt">
</div>
<div class="inner_cell">
<div class="text_cell_render border-box-sizing rendered_html">
<ul>
<li>What is the most common carrier?</li>
</ul>

</div>
</div>
</div>
<div class="cell border-box-sizing code_cell rendered">
<div class="input">
<div class="prompt input_prompt">In&nbsp;[30]:</div>
<div class="inner_cell">
    <div class="input_area">
<div class=" highlight hl-ipython3"><pre><span></span><span class="n">pd</span><span class="o">.</span><span class="n">read_sql</span><span class="p">(</span><span class="s1">&#39;select carrier, count(*) AS Total from flights group by carrier order by Total desc  limit 1;&#39;</span><span class="p">,</span> <span class="n">con</span><span class="o">=</span><span class="n">conn</span><span class="p">)</span> 
</pre></div>

</div>
</div>
</div>

<div class="output_wrapper">
<div class="output">


<div class="output_area"><div class="prompt output_prompt">Out[30]:</div>

<div class="output_html rendered_html output_subarea output_execute_result">
<div>
<table border="1" class="dataframe">
  <thead>
    <tr style="text-align: right;">
      <th></th>
      <th>carrier</th>
      <th>Total</th>
    </tr>
  </thead>
  <tbody>
    <tr>
      <th>0</th>
      <td>UA</td>
      <td>58665</td>
    </tr>
  </tbody>
</table>
</div>
</div>

</div>

</div>
</div>

</div>
<div class="cell border-box-sizing text_cell rendered">
<div class="prompt input_prompt">
</div>
<div class="inner_cell">
<div class="text_cell_render border-box-sizing rendered_html">
<ul>
<li>Which months have the highest number of flights?</li>
</ul>

</div>
</div>
</div>

<div class="cell border-box-sizing code_cell rendered">
<div class="input">
<div class="prompt input_prompt">In&nbsp;[58]:</div>
<div class="inner_cell">
    <div class="input_area">
<div class=" highlight hl-ipython3"><pre><span></span><span class="o">%</span><span class="k">matplotlib</span> inline
<span class="kn">import</span> <span class="nn">matplotlib.pyplot</span> <span class="k">as</span> <span class="nn">plt</span>
<span class="n">pandas_df</span><span class="o">=</span><span class="n">pd</span><span class="o">.</span><span class="n">read_sql</span><span class="p">(</span><span class="s1">&#39;select month from flights;&#39;</span><span class="p">,</span> <span class="n">con</span><span class="o">=</span><span class="n">conn</span><span class="p">)</span> 
<span class="n">pandas_df</span><span class="o">.</span><span class="n">groupby</span><span class="p">(</span><span class="n">pandas_df</span><span class="o">.</span><span class="n">month</span><span class="p">)</span><span class="o">.</span><span class="n">size</span><span class="p">()</span><span class="o">.</span><span class="n">plot</span><span class="p">(</span><span class="n">kind</span><span class="o">=</span><span class="s1">&#39;bar&#39;</span><span class="p">,</span><span class="n">ylim</span> <span class="o">=</span><span class="p">[</span><span class="mi">24000</span><span class="p">,</span><span class="mi">30000</span><span class="p">])</span>
<span class="n">plt</span><span class="o">.</span><span class="n">xlabel</span><span class="p">(</span><span class="s1">&#39;Month&#39;</span><span class="p">)</span>
<span class="n">plt</span><span class="o">.</span><span class="n">ylabel</span><span class="p">(</span><span class="s1">&#39;# of observation&#39;</span><span class="p">)</span>
<span class="n">plt</span><span class="o">.</span><span class="n">show</span><span class="p">()</span>
</pre></div>

</div>
</div>
</div>

<div class="output_wrapper">
<div class="output">


<div class="output_area"><div class="prompt"></div>


<div class="output_png output_subarea ">
<img src="data:image/png;base64,iVBORw0KGgoAAAANSUhEUgAAAisAAAF9CAYAAADFkShfAAAABHNCSVQICAgIfAhkiAAAAAlwSFlz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"
>
</div>

</div>

</div>
</div>

</div>
<div class="cell border-box-sizing text_cell rendered">
<div class="prompt input_prompt">
</div>
<div class="inner_cell">
<div class="text_cell_render border-box-sizing rendered_html">
<ul>
<li>What is the longest distance for each carrier?</li>
</ul>

</div>
</div>
</div>
<div class="cell border-box-sizing code_cell rendered">
<div class="input">
<div class="prompt input_prompt">In&nbsp;[&nbsp;]:</div>
<div class="inner_cell">
    <div class="input_area">


</div>
</div>
</div>

</div>
<div class="cell border-box-sizing code_cell rendered">
<div class="input">
<div class="prompt input_prompt">In&nbsp;[84]:</div>
<div class="inner_cell">
    <div class="input_area">
<div class=" highlight hl-ipython3"><pre><span></span><span class="n">pandas_df</span><span class="o">=</span><span class="n">pd</span><span class="o">.</span><span class="n">read_sql</span><span class="p">(</span><span class="s1">&#39;select carrier, distance  from flights ;&#39;</span><span class="p">,</span> <span class="n">con</span><span class="o">=</span><span class="n">conn</span><span class="p">)</span> 
<span class="n">pandas_df</span><span class="o">.</span><span class="n">groupby</span><span class="p">(</span><span class="n">pandas_df</span><span class="o">.</span><span class="n">carrier</span><span class="p">)</span><span class="o">.</span><span class="n">max</span><span class="p">()</span><span class="o">.</span><span class="n">plot</span><span class="p">(</span><span class="n">kind</span><span class="o">=</span><span class="s1">&#39;bar&#39;</span><span class="p">)</span>
<span class="n">plt</span><span class="o">.</span><span class="n">xlabel</span><span class="p">(</span><span class="s1">&#39;Carrier&#39;</span><span class="p">)</span>
<span class="n">plt</span><span class="o">.</span><span class="n">ylabel</span><span class="p">(</span><span class="s1">&#39;Longest distance&#39;</span><span class="p">)</span>
<span class="n">plt</span><span class="o">.</span><span class="n">show</span><span class="p">()</span>
</pre></div>

</div>
</div>
</div>

<div class="output_wrapper">
<div class="output">


<div class="output_area"><div class="prompt"></div>


<div class="output_png output_subarea ">
<img src="data:image/png;base64,iVBORw0KGgoAAAANSUhEUgAAAiMAAAGDCAYAAAD53hDCAAAABHNCSVQICAgIfAhkiAAAAAlwSFlz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"
>
</div>

</div>

</div>
</div>

</div>
<div class="cell border-box-sizing text_cell rendered">
<div class="prompt input_prompt">
</div>
<div class="inner_cell">
<div class="text_cell_render border-box-sizing rendered_html">
<ul>
<li>What are the five most common flight routes?</li>
</ul>

</div>
</div>
</div>
<div class="cell border-box-sizing code_cell rendered">
<div class="input">
<div class="prompt input_prompt">In&nbsp;[87]:</div>
<div class="inner_cell">
    <div class="input_area">
<div class=" highlight hl-ipython3"><pre><span></span><span class="n">pandas_df</span><span class="o">=</span><span class="n">pd</span><span class="o">.</span><span class="n">read_sql</span><span class="p">(</span><span class="s1">&#39;select origin, dest, count(*) as Total  from flights group by origin, dest order by Total desc limit 5 ;&#39;</span><span class="p">,</span> <span class="n">con</span><span class="o">=</span><span class="n">conn</span><span class="p">)</span>
<span class="n">pandas_df</span>
</pre></div>

</div>
</div>
</div>

<div class="output_wrapper">
<div class="output">


<div class="output_area"><div class="prompt output_prompt">Out[87]:</div>

<div class="output_html rendered_html output_subarea output_execute_result">
<div>
<table border="1" class="dataframe">
  <thead>
    <tr style="text-align: right;">
      <th></th>
      <th>origin</th>
      <th>dest</th>
      <th>Total</th>
    </tr>
  </thead>
  <tbody>
    <tr>
      <th>0</th>
      <td>JFK</td>
      <td>LAX</td>
      <td>11262</td>
    </tr>
    <tr>
      <th>1</th>
      <td>LGA</td>
      <td>ATL</td>
      <td>10263</td>
    </tr>
    <tr>
      <th>2</th>
      <td>LGA</td>
      <td>ORD</td>
      <td>8857</td>
    </tr>
    <tr>
      <th>3</th>
      <td>JFK</td>
      <td>SFO</td>
      <td>8204</td>
    </tr>
    <tr>
      <th>4</th>
      <td>LGA</td>
      <td>CLT</td>
      <td>6168</td>
    </tr>
  </tbody>
</table>
</div>
</div>

</div>

</div>
</div>

</div>
<div class="cell border-box-sizing text_cell rendered">
<div class="prompt input_prompt">
</div>
<div class="inner_cell">
<div class="text_cell_render border-box-sizing rendered_html">
<ul>
<li>Is the carrier with the highest departure delay also with the highest arrival delay?</li>
</ul>

</div>
</div>
</div>
<div class="cell border-box-sizing code_cell rendered">
<div class="input">
<div class="prompt input_prompt">In&nbsp;[88]:</div>
<div class="inner_cell">
    <div class="input_area">
<div class=" highlight hl-ipython3"><pre><span></span><span class="n">highest_departure_delay</span><span class="o">=</span><span class="n">pd</span><span class="o">.</span><span class="n">read_sql</span><span class="p">(</span><span class="s1">&#39;select carrier, max(dep_delay) as Highest_departure_delay  from flights group by carrier order by Highest_departure_delay desc limit 1 ;&#39;</span><span class="p">,</span> <span class="n">con</span><span class="o">=</span><span class="n">conn</span><span class="p">)</span>
<span class="n">highest_arrival_delay</span><span class="o">=</span><span class="n">pd</span><span class="o">.</span><span class="n">read_sql</span><span class="p">(</span><span class="s1">&#39;select carrier, max(arr_delay) as Highest_arrival_delay  from flights group by carrier order by Highest_arrival_delay desc limit 1 ;&#39;</span><span class="p">,</span> <span class="n">con</span><span class="o">=</span><span class="n">conn</span><span class="p">)</span>
</pre></div>

</div>
</div>
</div>

</div>
<div class="cell border-box-sizing code_cell rendered">
<div class="input">
<div class="prompt input_prompt">In&nbsp;[94]:</div>
<div class="inner_cell">
    <div class="input_area">
<div class=" highlight hl-ipython3"><pre><span></span><span class="nb">print</span><span class="p">(</span><span class="n">highest_departure_delay</span><span class="p">)</span>
</pre></div>

</div>
</div>
</div>

<div class="output_wrapper">
<div class="output">


<div class="output_area"><div class="prompt"></div>
<div class="output_subarea output_stream output_stdout output_text">
<pre>  carrier  Highest_departure_delay
0      HA                   1301.0
</pre>
</div>
</div>

</div>
</div>

</div>
<div class="cell border-box-sizing code_cell rendered">
<div class="input">
<div class="prompt input_prompt">In&nbsp;[95]:</div>
<div class="inner_cell">
    <div class="input_area">
<div class=" highlight hl-ipython3"><pre><span></span><span class="nb">print</span><span class="p">(</span><span class="n">highest_arrival_delay</span><span class="p">)</span>
</pre></div>

</div>
</div>
</div>

<div class="output_wrapper">
<div class="output">


<div class="output_area"><div class="prompt"></div>
<div class="output_subarea output_stream output_stdout output_text">
<pre>  carrier  Highest_arrival_delay
0      HA                 1272.0
</pre>
</div>
</div>

</div>
</div>

</div>
<div class="cell border-box-sizing text_cell rendered">
<div class="prompt input_prompt">
</div>
<div class="inner_cell">
<div class="text_cell_render border-box-sizing rendered_html">
<ul>
<li>Are the unique destinations the same in all months?</li>
</ul>

</div>
</div>
</div>
<div class="cell border-box-sizing code_cell rendered">
<div class="input">
<div class="prompt input_prompt">In&nbsp;[100]:</div>
<div class="inner_cell">
    <div class="input_area">
<div class=" highlight hl-ipython3"><pre><span></span><span class="n">pandas_df</span><span class="o">=</span><span class="n">pd</span><span class="o">.</span><span class="n">read_sql</span><span class="p">(</span><span class="s1">&#39;select distinct month,dest from flights ;&#39;</span><span class="p">,</span> <span class="n">con</span><span class="o">=</span><span class="n">conn</span><span class="p">)</span>
<span class="n">pandas_df</span><span class="o">.</span><span class="n">groupby</span><span class="p">(</span><span class="n">pandas_df</span><span class="o">.</span><span class="n">month</span><span class="p">)</span><span class="o">.</span><span class="n">size</span><span class="p">()</span><span class="o">.</span><span class="n">plot</span><span class="p">(</span><span class="n">kind</span><span class="o">=</span><span class="s1">&#39;bar&#39;</span><span class="p">,</span><span class="n">ylim</span> <span class="o">=</span><span class="p">[</span><span class="mi">80</span><span class="p">,</span><span class="mi">100</span><span class="p">])</span>
<span class="n">plt</span><span class="o">.</span><span class="n">xlabel</span><span class="p">(</span><span class="s1">&#39;Month&#39;</span><span class="p">)</span>
<span class="n">plt</span><span class="o">.</span><span class="n">ylabel</span><span class="p">(</span><span class="s1">&#39;# of observation&#39;</span><span class="p">)</span>
<span class="n">plt</span><span class="o">.</span><span class="n">show</span><span class="p">()</span>
</pre></div>

</div>
</div>
</div>

<div class="output_wrapper">
<div class="output">


<div class="output_area"><div class="prompt"></div>


<div class="output_png output_subarea ">
<img src="data:image/png;base64,iVBORw0KGgoAAAANSUhEUgAAAhoAAAF9CAYAAABCoMFZAAAABHNCSVQICAgIfAhkiAAAAAlwSFlz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"
>
</div>

</div>

</div>
</div>

</div>
    </div>
  </div>
  
        
</main>
<footer>
  <p>Copyright &copy; <script>document.write(new Date().getFullYear());</script>, Ashenafi Gurmu</p>
  <div class="footer-social-icons">
    <ul>
<li><a href="https://www.linkedin.com/in/ashenafi-gurmu/" target="blank"><i class="fab fa-linkedin"></i></a></li>
<li><a href="https://github.com/Gurmu?tab=repositories" target="blank"><i class="fab fa-github"></i></a></li>
<li><a href="https://twitter.com/glovashu" target="blank"><i class="fab fa-twitter"></i></a></li>
</ul>
        
    </div>
</footer>
</body>
</html>

